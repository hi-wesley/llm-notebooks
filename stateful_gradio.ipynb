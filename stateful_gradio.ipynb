{
 "cells": [
  {
   "cell_type": "code",
   "execution_count": null,
   "id": "70e39cd8-ec79-4e3e-9c26-5659d42d0861",
   "metadata": {},
   "outputs": [],
   "source": [
    "import os\n",
    "from dotenv import load_dotenv\n",
    "from openai import OpenAI\n",
    "import gradio as gr\n",
    "\n",
    "load_dotenv(override=True)\n",
    "API_KEYS = [\"OPENAI_API_KEY\"]\n",
    "MODEL = \"gpt-4o-mini\"\n",
    "api_keys = {key: os.getenv(key) for key in API_KEYS}\n",
    "missing_keys = [key for key, value in api_keys.items() if not value]\n",
    "if missing_keys:\n",
    "    raise ValueError(f\"Missing API keys: {', '.join(missing_keys)}\")\n",
    "\n",
    "openai = OpenAI(api_key=api_keys[\"OPENAI_API_KEY\"])\n",
    "system_message = SYSTEM_MESSAGE = (\n",
    "    \"You are a versatile, thoughtful, and precise assistant. \"\n",
    "    \"Always prioritize fully understanding the user's request and ask clarifying questions when necessary. \"\n",
    "    \"Adjust your tone and style based on the user's input.\"\n",
    ")\n",
    "\n",
    "def chat(message, history):\n",
    "    messages = [{\"role\": \"system\", \"content\": system_message}] + history + [{\"role\": \"user\", \"content\": message}]\n",
    "    stream = openai.chat.completions.create(model=MODEL, messages=messages, stream=True)\n",
    "    response = \"\"\n",
    "    for chunk in stream:\n",
    "        response += chunk.choices[0].delta.content or ''\n",
    "        yield response\n",
    "\n",
    "gr.ChatInterface(fn=chat, type=\"messages\").launch()"
   ]
  }
 ],
 "metadata": {
  "kernelspec": {
   "display_name": "Python 3 (ipykernel)",
   "language": "python",
   "name": "python3"
  },
  "language_info": {
   "codemirror_mode": {
    "name": "ipython",
    "version": 3
   },
   "file_extension": ".py",
   "mimetype": "text/x-python",
   "name": "python",
   "nbconvert_exporter": "python",
   "pygments_lexer": "ipython3",
   "version": "3.11.13"
  }
 },
 "nbformat": 4,
 "nbformat_minor": 5
}
