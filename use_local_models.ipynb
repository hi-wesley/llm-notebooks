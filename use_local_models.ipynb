{
 "cells": [
  {
   "cell_type": "code",
   "execution_count": 31,
   "id": "b7d8e3c3-09f5-444f-94a2-c94efad532ba",
   "metadata": {},
   "outputs": [
    {
     "name": "stdout",
     "output_type": "stream",
     "text": [
      "Direct HTTP response: I told my wife she was drawing her eyebrows too high, and she looked surprised.\n",
      "Ollama library response: \"I told my wife she was drawing her eyebrows too high, and she looked surprised.\"\n",
      "OpenAI library response: \"I told my wife she was drawing her eyebrows too high, she looked surprised.\"\n"
     ]
    }
   ],
   "source": [
    "# requests is used for sending http requests\n",
    "import requests\n",
    "import ollama\n",
    "from openai import OpenAI\n",
    "\n",
    "MODEL = \"llama3.2\"\n",
    "messages = [{\"role\": \"user\", \"content\": \"Tell me a funny one liner\"}]\n",
    "\n",
    "# only for http\n",
    "OLLAMA_API = \"http://localhost:11434/api/chat\"\n",
    "HEADERS = {\"Content-Type\": \"application/json\"}\n",
    "payload = {\n",
    "        \"model\": MODEL,\n",
    "        \"messages\": messages,\n",
    "        \"stream\": False\n",
    "    }\n",
    "\n",
    "# only for openai library\n",
    "ollama_via_openai = OpenAI(base_url='http://localhost:11434/v1', api_key='ollama')\n",
    "\n",
    "# three different ways to interact with a locally running llm\n",
    "direct_http_response = requests.post(OLLAMA_API, json=payload, headers=HEADERS)\n",
    "ollama_python_response = ollama.chat(model=MODEL, messages=messages)\n",
    "openai_python_response = ollama_via_openai.chat.completions.create(\n",
    "    model=MODEL,\n",
    "    messages=messages\n",
    ")\n",
    "\n",
    "print(\"HTTP response:\", direct_http_response.json()['message']['content'])\n",
    "print(\"Ollama library response:\", ollama_python_response['message']['content'])\n",
    "print(\"OpenAI library response:\", openai_python_response.choices[0].message.content)"
   ]
  },
  {
   "cell_type": "code",
   "execution_count": null,
   "id": "b2a87d42-743f-43f5-94f5-10135c5f85b2",
   "metadata": {},
   "outputs": [],
   "source": []
  }
 ],
 "metadata": {
  "kernelspec": {
   "display_name": "Python 3 (ipykernel)",
   "language": "python",
   "name": "python3"
  },
  "language_info": {
   "codemirror_mode": {
    "name": "ipython",
    "version": 3
   },
   "file_extension": ".py",
   "mimetype": "text/x-python",
   "name": "python",
   "nbconvert_exporter": "python",
   "pygments_lexer": "ipython3",
   "version": "3.11.13"
  }
 },
 "nbformat": 4,
 "nbformat_minor": 5
}
