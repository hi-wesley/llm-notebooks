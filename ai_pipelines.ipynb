{
 "cells": [
  {
   "cell_type": "code",
   "execution_count": null,
   "metadata": {
    "id": "aOjYqKqVc7kC"
   },
   "outputs": [],
   "source": [
    "\"\"\"\n",
    "this script sets up and demonstrates two ai pipelines using hugging face libraries\n",
    "text-to-speech (audio generation): uses microsoft/speecht5_tts to synthesize speech from text\n",
    "text-to-image (image generation): uses stabilityai/sd-turbo to generate images from text\n",
    "this runs on google colab, not jupyter notebook\n",
    "\"\"\"\n",
    "!pip install diffusers transformers accelerate bitsandbytes datasets fsspec==2023.9.2 soundfile\n",
    "\n",
    "from huggingface_hub import login\n",
    "from google.colab import userdata\n",
    "from transformers import pipeline\n",
    "from datasets import load_dataset\n",
    "import soundfile as sf\n",
    "import torch\n",
    "from diffusers import AutoPipelineForText2Image\n",
    "from IPython.display import Audio, display\n",
    "from PIL import Image\n",
    "\n",
    "hf_token = userdata.get('HF_TOKEN')\n",
    "login(hf_token, add_to_git_credential=True)"
   ]
  },
  {
   "cell_type": "code",
   "execution_count": null,
   "metadata": {
    "id": "oQmlsl1VdK4k"
   },
   "outputs": [],
   "source": [
    "#audio generation\n",
    "synthesiser = pipeline(\"text-to-speech\", \"microsoft/speecht5_tts\", device='cuda')\n",
    "embeddings_dataset = load_dataset(\"matthijs/cmu-arctic-xvectors\", split=\"validation\")\n",
    "speaker_embedding = torch.tensor(embeddings_dataset[7306][\"xvector\"]).unsqueeze(0)\n",
    "speech = synthesiser(\"Why hello there\", forward_params={\"speaker_embeddings\": speaker_embedding})\n",
    "sf.write(\"speech.wav\", speech[\"audio\"], samplerate=speech[\"sampling_rate\"])\n",
    "\n",
    "Audio(\"speech.wav\")"
   ]
  },
  {
   "cell_type": "code",
   "execution_count": null,
   "metadata": {
    "id": "Pbave4dAdLQ1"
   },
   "outputs": [],
   "source": [
    "#image generation\n",
    "pipe = AutoPipelineForText2Image.from_pretrained(\n",
    "    \"stabilityai/sd-turbo\",\n",
    "    torch_dtype=torch.float16,\n",
    "    variant=\"fp16\"\n",
    ").to(\"cuda\")\n",
    "prompt = \"A hundred men fighting one silverback gorilla\"\n",
    "image = pipe(prompt=prompt, num_inference_steps=1, guidance_scale=0.0).images[0]\n",
    "\n",
    "display(image)"
   ]
  }
 ],
 "metadata": {
  "accelerator": "GPU",
  "colab": {
   "gpuType": "T4",
   "provenance": []
  },
  "kernelspec": {
   "display_name": "Python 3 (ipykernel)",
   "language": "python",
   "name": "python3"
  },
  "language_info": {
   "codemirror_mode": {
    "name": "ipython",
    "version": 3
   },
   "file_extension": ".py",
   "mimetype": "text/x-python",
   "name": "python",
   "nbconvert_exporter": "python",
   "pygments_lexer": "ipython3",
   "version": "3.11.13"
  }
 },
 "nbformat": 4,
 "nbformat_minor": 4
}
