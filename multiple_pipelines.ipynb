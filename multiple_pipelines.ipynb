{
 "cells": [
  {
   "cell_type": "code",
   "execution_count": null,
   "metadata": {
    "id": "CTm7gpG7qhB7"
   },
   "outputs": [],
   "source": [
    "# https://huggingface.co/docs/transformers/main_classes/pipelines\n",
    "# https://huggingface.co/docs/diffusers/en/api/pipelines/overview\n",
    "# https://huggingface.co/models\n",
    "\n",
    "!pip install -q -U transformers datasets diffusers soundfile\n",
    "\n",
    "import torch\n",
    "from google.colab import userdata\n",
    "from huggingface_hub import login\n",
    "from transformers import pipeline\n",
    "from diffusers import DiffusionPipeline\n",
    "from datasets import load_dataset\n",
    "import soundfile as sf\n",
    "from IPython.display import Audio\n",
    "\n",
    "device = \"cuda\" if torch.cuda.is_available() else \"cpu\"\n",
    "hf_token = userdata.get('HF_TOKEN')\n",
    "login(hf_token, add_to_git_credential=True)"
   ]
  },
  {
   "cell_type": "code",
   "execution_count": null,
   "metadata": {
    "id": "mzurQ1d12mBU"
   },
   "outputs": [],
   "source": [
    "# sentiment analysis\n",
    "classifier = pipeline(\"sentiment-analysis\", device=device)\n",
    "result = classifier(\"A diamond in the rough in the form of a star who appeared like a comet—Idol VTuber Hoshimachi Suisei!\")\n",
    "print(\"Sentiment Analysis:\", result)"
   ]
  },
  {
   "cell_type": "code",
   "execution_count": null,
   "metadata": {
    "id": "EeSJeFAh21Ra"
   },
   "outputs": [],
   "source": [
    "# named entity recognition\n",
    "ner = pipeline(\"ner\", grouped_entities=True, device=device)\n",
    "result = ner(\"Hoshimachi Suisei's YouTube channel was created on 18 March 2018\")\n",
    "print(\"Named Entity Recognition:\", result)"
   ]
  },
  {
   "cell_type": "code",
   "execution_count": null,
   "metadata": {
    "id": "J1fnF2yJ3o6O"
   },
   "outputs": [],
   "source": [
    "# question answering with context\n",
    "question_answerer = pipeline(\"question-answering\", device=device)\n",
    "result = question_answerer(question=\"When did Hoshimachi Suisei create her YouTube channel?\", context=\"Hoshimachi Suisei's YouTube channel was created on 18 March 2018\")\n",
    "print(\"Question Answering:\", result)"
   ]
  },
  {
   "cell_type": "code",
   "execution_count": null,
   "metadata": {
    "id": "cjiiWRj231ME"
   },
   "outputs": [],
   "source": [
    "# text summarization\n",
    "summarizer = pipeline(\"summarization\", device=device)\n",
    "text = \"\"\"\n",
    "Hoshimachi Suisei (星街すいせい) is a Japanese singer and virtual YouTuber. She began posting videos as an independent creator in March 2018.\n",
    "In May 2019, she became affiliated with Hololive Production through their newly created music label, INoNaKa Music, before joining the agency's main branch later the same year.\n",
    "Her YouTube activity consists primarily of live streaming herself singing karaoke, playing video games, talking to her fans, or collaborating with other talents.\n",
    "She is particularly well known among fans for her skill at Tetris and her singing ability. As of March 2024, she has 2.11 million subscribers and 731 million views on YouTube.\n",
    "\"\"\"\n",
    "summary = summarizer(text, max_length=50, min_length=25, do_sample=False)\n",
    "print(\"Summary:\", summary[0]['summary_text'])"
   ]
  },
  {
   "cell_type": "code",
   "execution_count": null,
   "metadata": {
    "id": "RGU7ANVaRIkR"
   },
   "outputs": [],
   "source": [
    "# translation\n",
    "# this prompt breaks the translation\n",
    "translator = pipeline(\"translation\", model=\"staka/fugumt-en-ja\", device=device)\n",
    "result = translator(\"Mark Zuckerberg has been aggressively recruiting top talent from OpenAI as part of his efforts to establish Meta as a leader in artificial intelligence.\")\n",
    "print(\"Translate English to Japanese:\", result[0]['translation_text'])"
   ]
  },
  {
   "cell_type": "code",
   "execution_count": null,
   "metadata": {
    "id": "rSZR309b4IP8"
   },
   "outputs": [],
   "source": [
    "# zero shot classification\n",
    "classifier = pipeline(\"zero-shot-classification\", device=device)\n",
    "result = classifier(\"Shuchao Bi: Co-creator of GPT-4o voice mode and o4-mini, previously leading multimodal post-training at OpenAI, now part of Meta's team.\",\n",
    "                    candidate_labels=[\"technology\", \"sports\", \"politics\"])\n",
    "print(\"Zero-Shot Classification:\", result)"
   ]
  },
  {
   "cell_type": "code",
   "execution_count": null,
   "metadata": {
    "id": "c_vynLSH4YQ7"
   },
   "outputs": [],
   "source": [
    "# text gen\n",
    "# this prompt breaks the text generator\n",
    "generator = pipeline(\"text-generation\", device=device)\n",
    "result = generator(\"The key things to know about HuggingFace pipelines are:\")\n",
    "print(result[0]['generated_text'])"
   ]
  },
  {
   "cell_type": "code",
   "execution_count": null,
   "metadata": {
    "id": "vgG4kcT_4lO_"
   },
   "outputs": [],
   "source": [
    "# image gen\n",
    "# tokyo dome doesn't look like that\n",
    "image_gen = DiffusionPipeline.from_pretrained(\n",
    "    \"stabilityai/stable-diffusion-2-1\",\n",
    "    torch_dtype=torch.float16,\n",
    "    use_safetensors=True,\n",
    "    variant=\"fp16\"\n",
    ").to(device)\n",
    "prompt = \"Show me a picture of Tokyo Dome\"\n",
    "image = image_gen(prompt=prompt).images[0]\n",
    "image"
   ]
  },
  {
   "cell_type": "code",
   "execution_count": null,
   "metadata": {
    "id": "eT2znLQ2YSxS"
   },
   "outputs": [],
   "source": [
    "# free gpu memory\n",
    "del image_gen\n",
    "torch.cuda.empty_cache()"
   ]
  },
  {
   "cell_type": "code",
   "execution_count": null,
   "metadata": {
    "id": "kCPBE0i4pAAO"
   },
   "outputs": [],
   "source": [
    "# audio generation / text to speech\n",
    "# this prompt breaks the audio generator\n",
    "synthesiser = pipeline(\"text-to-speech\", model=\"microsoft/speecht5_tts\", device=device)\n",
    "embeddings_dataset = load_dataset(\"Matthijs/cmu-arctic-xvectors\", split=\"validation\")\n",
    "speaker_embedding = torch.tensor(embeddings_dataset[7306][\"xvector\"]).unsqueeze(0)\n",
    "speech = synthesiser(\"\"\"\n",
    "Zuckerberg has personally reached out to desired candidates, aiming to create a transfusion from the country’s top AI labs.\n",
    "The Meta CEO has also promised to pivot the company into an \"AI-first\" organization, leading to the creation of Meta Superintelligence Labs (MSL),\n",
    "which includes all of Meta's foundations, product, and FAIR teams, as well as a new lab focused on developing the next generation of models.\n",
    "\"\"\", forward_params={\"speaker_embeddings\": speaker_embedding})\n",
    "sf.write(\"speech.wav\", speech[\"audio\"], samplerate=speech[\"sampling_rate\"])\n",
    "display(Audio(\"speech.wav\"))"
   ]
  }
 ],
 "metadata": {
  "accelerator": "GPU",
  "colab": {
   "gpuType": "T4",
   "provenance": []
  },
  "kernelspec": {
   "display_name": "Python 3 (ipykernel)",
   "language": "python",
   "name": "python3"
  },
  "language_info": {
   "codemirror_mode": {
    "name": "ipython",
    "version": 3
   },
   "file_extension": ".py",
   "mimetype": "text/x-python",
   "name": "python",
   "nbconvert_exporter": "python",
   "pygments_lexer": "ipython3",
   "version": "3.11.13"
  }
 },
 "nbformat": 4,
 "nbformat_minor": 4
}
